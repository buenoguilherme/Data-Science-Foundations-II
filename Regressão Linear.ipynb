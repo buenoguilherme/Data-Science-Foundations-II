{
 "cells": [
  {
   "cell_type": "code",
   "execution_count": 3,
   "metadata": {
    "collapsed": true
   },
   "outputs": [],
   "source": [
    "from pandas import Series, DataFrame\n",
    "import numpy as np"
   ]
  },
  {
   "cell_type": "code",
   "execution_count": 4,
   "metadata": {},
   "outputs": [
    {
     "data": {
      "text/html": [
       "<div>\n",
       "<style>\n",
       "    .dataframe thead tr:only-child th {\n",
       "        text-align: right;\n",
       "    }\n",
       "\n",
       "    .dataframe thead th {\n",
       "        text-align: left;\n",
       "    }\n",
       "\n",
       "    .dataframe tbody tr th {\n",
       "        vertical-align: top;\n",
       "    }\n",
       "</style>\n",
       "<table border=\"1\" class=\"dataframe\">\n",
       "  <thead>\n",
       "    <tr style=\"text-align: right;\">\n",
       "      <th></th>\n",
       "      <th>regioes</th>\n",
       "      <th>taxa_de_analfabetismo</th>\n",
       "      <th>taxa_de_mortalidade_infantil</th>\n",
       "    </tr>\n",
       "  </thead>\n",
       "  <tbody>\n",
       "    <tr>\n",
       "      <th>0</th>\n",
       "      <td>norte</td>\n",
       "      <td>12.7</td>\n",
       "      <td>35.60</td>\n",
       "    </tr>\n",
       "    <tr>\n",
       "      <th>1</th>\n",
       "      <td>nordeste</td>\n",
       "      <td>29.4</td>\n",
       "      <td>59.00</td>\n",
       "    </tr>\n",
       "    <tr>\n",
       "      <th>2</th>\n",
       "      <td>sudeste</td>\n",
       "      <td>8.6</td>\n",
       "      <td>25.20</td>\n",
       "    </tr>\n",
       "    <tr>\n",
       "      <th>3</th>\n",
       "      <td>sul</td>\n",
       "      <td>8.3</td>\n",
       "      <td>22.50</td>\n",
       "    </tr>\n",
       "    <tr>\n",
       "      <th>4</th>\n",
       "      <td>centro-oeste</td>\n",
       "      <td>12.4</td>\n",
       "      <td>25.41</td>\n",
       "    </tr>\n",
       "  </tbody>\n",
       "</table>\n",
       "</div>"
      ],
      "text/plain": [
       "        regioes  taxa_de_analfabetismo  taxa_de_mortalidade_infantil\n",
       "0         norte                   12.7                         35.60\n",
       "1      nordeste                   29.4                         59.00\n",
       "2       sudeste                    8.6                         25.20\n",
       "3           sul                    8.3                         22.50\n",
       "4  centro-oeste                   12.4                         25.41"
      ]
     },
     "execution_count": 4,
     "metadata": {},
     "output_type": "execute_result"
    }
   ],
   "source": [
    "regioes = ['norte', 'nordeste', 'sudeste', 'sul', 'centro-oeste']\n",
    "taxa_de_mortalidade_infantil = Series([35.6, 59, 25.2, 22.5, 25.41]) # x\n",
    "taxa_de_analfabetismo = Series([12.7, 29.4, 8.6, 8.3, 12.4]) # y\n",
    "\n",
    "mortalidade_analfabetismo = {'regioes':regioes,\n",
    "                            'taxa_de_mortalidade_infantil': taxa_de_mortalidade_infantil,\n",
    "                            'taxa_de_analfabetismo': taxa_de_analfabetismo}\n",
    "\n",
    "mortalidade_analfabetismo_df = DataFrame(mortalidade_analfabetismo)\n",
    "mortalidade_analfabetismo_df"
   ]
  },
  {
   "cell_type": "code",
   "execution_count": 5,
   "metadata": {
    "collapsed": true
   },
   "outputs": [],
   "source": [
    "def coeficiente_r(x, y, n):\n",
    "    xy = x * y\n",
    "    squared_x = x ** 2\n",
    "    squared_y = y ** 2\n",
    "    \n",
    "    sum_x = x.sum()\n",
    "    sum_y = y.sum()\n",
    "    sum_xy = xy.sum()\n",
    "    sum_squared_x = squared_x.sum()\n",
    "    sum_squared_y = squared_y.sum()\n",
    "    \n",
    "    Sxy = sum_xy - sum_x * sum_y / n\n",
    "    Sxx = sum_squared_x - sum_x ** 2 / n\n",
    "    Syy = sum_squared_y - sum_y ** 2 / n \n",
    "    \n",
    "    r = Sxy / np.sqrt(Sxx * Syy)\n",
    "    return r"
   ]
  },
  {
   "cell_type": "code",
   "execution_count": 6,
   "metadata": {},
   "outputs": [
    {
     "data": {
      "text/plain": [
       "0.97249677887347097"
      ]
     },
     "execution_count": 6,
     "metadata": {},
     "output_type": "execute_result"
    }
   ],
   "source": [
    "coeficiente_r(taxa_de_mortalidade_infantil, taxa_de_analfabetismo, len(taxa_de_analfabetismo))"
   ]
  },
  {
   "cell_type": "code",
   "execution_count": 14,
   "metadata": {
    "collapsed": true
   },
   "outputs": [],
   "source": [
    "def regressao_linear(x, y, n):\n",
    "    xy = x * y\n",
    "    squared_x = x ** 2\n",
    "    squared_y = y ** 2\n",
    "\n",
    "    sum_x = x.sum()\n",
    "    sum_y = y.sum()\n",
    "    sum_xy = xy.sum()\n",
    "    sum_squared_x = squared_x.sum()\n",
    "    sum_squared_y = squared_y.sum()\n",
    "    \n",
    "    a = (n * sum_xy - sum_x * sum_y) / (n * sum_squared_x - sum_x ** 2)\n",
    "    b = np.mean(y) - a * np.mean(x)\n",
    "    def find(x):\n",
    "        return a * x + b\n",
    "    \n",
    "    return a, b, find"
   ]
  },
  {
   "cell_type": "code",
   "execution_count": 15,
   "metadata": {},
   "outputs": [
    {
     "data": {
      "text/html": [
       "<div>\n",
       "<style>\n",
       "    .dataframe thead tr:only-child th {\n",
       "        text-align: right;\n",
       "    }\n",
       "\n",
       "    .dataframe thead th {\n",
       "        text-align: left;\n",
       "    }\n",
       "\n",
       "    .dataframe tbody tr th {\n",
       "        vertical-align: top;\n",
       "    }\n",
       "</style>\n",
       "<table border=\"1\" class=\"dataframe\">\n",
       "  <thead>\n",
       "    <tr style=\"text-align: right;\">\n",
       "      <th></th>\n",
       "      <th>regioes</th>\n",
       "      <th>taxa_de_analfabetismo</th>\n",
       "      <th>taxa_de_mortalidade_infantil</th>\n",
       "    </tr>\n",
       "  </thead>\n",
       "  <tbody>\n",
       "    <tr>\n",
       "      <th>0</th>\n",
       "      <td>norte</td>\n",
       "      <td>12.7</td>\n",
       "      <td>35.60</td>\n",
       "    </tr>\n",
       "    <tr>\n",
       "      <th>1</th>\n",
       "      <td>nordeste</td>\n",
       "      <td>29.4</td>\n",
       "      <td>59.00</td>\n",
       "    </tr>\n",
       "    <tr>\n",
       "      <th>2</th>\n",
       "      <td>sudeste</td>\n",
       "      <td>8.6</td>\n",
       "      <td>25.20</td>\n",
       "    </tr>\n",
       "    <tr>\n",
       "      <th>3</th>\n",
       "      <td>sul</td>\n",
       "      <td>8.3</td>\n",
       "      <td>22.50</td>\n",
       "    </tr>\n",
       "    <tr>\n",
       "      <th>4</th>\n",
       "      <td>centro-oeste</td>\n",
       "      <td>12.4</td>\n",
       "      <td>25.41</td>\n",
       "    </tr>\n",
       "  </tbody>\n",
       "</table>\n",
       "</div>"
      ],
      "text/plain": [
       "        regioes  taxa_de_analfabetismo  taxa_de_mortalidade_infantil\n",
       "0         norte                   12.7                         35.60\n",
       "1      nordeste                   29.4                         59.00\n",
       "2       sudeste                    8.6                         25.20\n",
       "3           sul                    8.3                         22.50\n",
       "4  centro-oeste                   12.4                         25.41"
      ]
     },
     "execution_count": 15,
     "metadata": {},
     "output_type": "execute_result"
    }
   ],
   "source": [
    "mortalidade_analfabetismo_df"
   ]
  },
  {
   "cell_type": "code",
   "execution_count": 16,
   "metadata": {},
   "outputs": [
    {
     "data": {
      "text/plain": [
       "8.92828842994723"
      ]
     },
     "execution_count": 16,
     "metadata": {},
     "output_type": "execute_result"
    }
   ],
   "source": [
    "a, b, predict_y_with_linear_regression = regressao_linear(taxa_de_mortalidade_infantil, taxa_de_analfabetismo, len(taxa_de_analfabetismo))\n",
    "predict_x = 24\n",
    "predict_y_with_linear_regression(predict_x)"
   ]
  },
  {
   "cell_type": "code",
   "execution_count": 39,
   "metadata": {},
   "outputs": [
    {
     "data": {
      "image/png": "[encoded data removed]",
      "text/plain": [
       "<matplotlib.figure.Figure at 0x10eb23ba8>"
      ]
     },
     "metadata": {},
     "output_type": "display_data"
    }
   ],
   "source": [
    "import matplotlib.pyplot as plt\n",
    "\n",
    "minx = int(taxa_de_mortalidade_infantil.min())\n",
    "maxx = int(taxa_de_mortalidade_infantil.max())\n",
    "x = np.array(range(minx, maxx + 5))\n",
    "formula = \"{:f}*x+{:f}\".format(a, b)\n",
    "eq = eval(formula)\n",
    "\n",
    "plt.plot(x, eq)\n",
    "plt.plot(taxa_de_mortalidade_infantil, taxa_de_analfabetismo, 'ro')\n",
    "plt.xlabel('Taxa de mortalidade infantil %')\n",
    "plt.ylabel('Taxa de analfabetismo %')\n",
    "plt.show()"
   ]
  }
 ],
 "metadata": {
  "kernelspec": {
   "display_name": "Python 3",
   "language": "python",
   "name": "python3"
  },
  "language_info": {
   "codemirror_mode": {
    "name": "ipython",
    "version": 3
   },
   "file_extension": ".py",
   "mimetype": "text/x-python",
   "name": "python",
   "nbconvert_exporter": "python",
   "pygments_lexer": "ipython3",
   "version": "3.6.2"
  }
 },
 "nbformat": 4,
 "nbformat_minor": 2
}
